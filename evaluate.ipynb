{
 "cells": [
  {
   "cell_type": "code",
   "execution_count": 1,
   "metadata": {},
   "outputs": [],
   "source": [
    "import pandas as pd\n",
    "import numpy as np\n",
    "import matplotlib.pyplot as plt\n",
    "import seaborn as sns\n",
    "from env import user, host, password\n",
    "import os\n",
    "from sklearn.model_selection import train_test_split\n",
    "from sklearn.preprocessing import MinMaxScaler, StandardScaler, RobustScaler, QuantileTransformer\n",
    "from acquire import get_zillow_data, train_val_test, acquire_zillow, prep_zillow, wrangle_zillow"
   ]
  },
  {
   "cell_type": "code",
   "execution_count": 2,
   "metadata": {},
   "outputs": [
    {
     "ename": "NoSuchModuleError",
     "evalue": "Can't load plugin: sqlalchemy.dialects:sql.pymysql",
     "output_type": "error",
     "traceback": [
      "\u001b[0;31m---------------------------------------------------------------------------\u001b[0m",
      "\u001b[0;31mNoSuchModuleError\u001b[0m                         Traceback (most recent call last)",
      "Cell \u001b[0;32mIn[2], line 1\u001b[0m\n\u001b[0;32m----> 1\u001b[0m df \u001b[39m=\u001b[39m get_zillow_data()\n",
      "File \u001b[0;32m~/codeup-data-science/regression-exercises/acquire.py:44\u001b[0m, in \u001b[0;36mget_zillow_data\u001b[0;34m()\u001b[0m\n\u001b[1;32m     38\u001b[0m sql_query \u001b[39m=\u001b[39m \u001b[39m'''\u001b[39m\n\u001b[1;32m     39\u001b[0m \u001b[39m    SELECT bedroomcnt, bathroomcnt, calculatedfinishedsquarefeet, taxvaluedollarcnt, yearbuilt, taxamount, fips\u001b[39m\n\u001b[1;32m     40\u001b[0m \u001b[39m    FROM properties_2017\u001b[39m\n\u001b[1;32m     41\u001b[0m \u001b[39m    WHERE propertylandusetypeid = 261\u001b[39m\u001b[39m'''\u001b[39m\n\u001b[1;32m     43\u001b[0m \u001b[39m# Read the SQL query into a dataframe\u001b[39;00m\n\u001b[0;32m---> 44\u001b[0m df \u001b[39m=\u001b[39m pd\u001b[39m.\u001b[39mread_sql(sql_query, url)\n\u001b[1;32m     46\u001b[0m \u001b[39m# Write that dataframe to disk for later. Called \"caching\" the data for later.\u001b[39;00m\n\u001b[1;32m     47\u001b[0m df\u001b[39m.\u001b[39mto_csv(filename)\n",
      "File \u001b[0;32m/opt/homebrew/anaconda3/lib/python3.11/site-packages/pandas/io/sql.py:633\u001b[0m, in \u001b[0;36mread_sql\u001b[0;34m(sql, con, index_col, coerce_float, params, parse_dates, columns, chunksize, dtype_backend, dtype)\u001b[0m\n\u001b[1;32m    630\u001b[0m \u001b[39mif\u001b[39;00m dtype_backend \u001b[39mis\u001b[39;00m lib\u001b[39m.\u001b[39mno_default:\n\u001b[1;32m    631\u001b[0m     dtype_backend \u001b[39m=\u001b[39m \u001b[39m\"\u001b[39m\u001b[39mnumpy\u001b[39m\u001b[39m\"\u001b[39m  \u001b[39m# type: ignore[assignment]\u001b[39;00m\n\u001b[0;32m--> 633\u001b[0m \u001b[39mwith\u001b[39;00m pandasSQL_builder(con) \u001b[39mas\u001b[39;00m pandas_sql:\n\u001b[1;32m    634\u001b[0m     \u001b[39mif\u001b[39;00m \u001b[39misinstance\u001b[39m(pandas_sql, SQLiteDatabase):\n\u001b[1;32m    635\u001b[0m         \u001b[39mreturn\u001b[39;00m pandas_sql\u001b[39m.\u001b[39mread_query(\n\u001b[1;32m    636\u001b[0m             sql,\n\u001b[1;32m    637\u001b[0m             index_col\u001b[39m=\u001b[39mindex_col,\n\u001b[0;32m   (...)\u001b[0m\n\u001b[1;32m    643\u001b[0m             dtype\u001b[39m=\u001b[39mdtype,\n\u001b[1;32m    644\u001b[0m         )\n",
      "File \u001b[0;32m/opt/homebrew/anaconda3/lib/python3.11/site-packages/pandas/io/sql.py:832\u001b[0m, in \u001b[0;36mpandasSQL_builder\u001b[0;34m(con, schema, need_transaction)\u001b[0m\n\u001b[1;32m    829\u001b[0m     \u001b[39mraise\u001b[39;00m \u001b[39mImportError\u001b[39;00m(\u001b[39m\"\u001b[39m\u001b[39mUsing URI string without sqlalchemy installed.\u001b[39m\u001b[39m\"\u001b[39m)\n\u001b[1;32m    831\u001b[0m \u001b[39mif\u001b[39;00m sqlalchemy \u001b[39mis\u001b[39;00m \u001b[39mnot\u001b[39;00m \u001b[39mNone\u001b[39;00m \u001b[39mand\u001b[39;00m \u001b[39misinstance\u001b[39m(con, (\u001b[39mstr\u001b[39m, sqlalchemy\u001b[39m.\u001b[39mengine\u001b[39m.\u001b[39mConnectable)):\n\u001b[0;32m--> 832\u001b[0m     \u001b[39mreturn\u001b[39;00m SQLDatabase(con, schema, need_transaction)\n\u001b[1;32m    834\u001b[0m warnings\u001b[39m.\u001b[39mwarn(\n\u001b[1;32m    835\u001b[0m     \u001b[39m\"\u001b[39m\u001b[39mpandas only supports SQLAlchemy connectable (engine/connection) or \u001b[39m\u001b[39m\"\u001b[39m\n\u001b[1;32m    836\u001b[0m     \u001b[39m\"\u001b[39m\u001b[39mdatabase string URI or sqlite3 DBAPI2 connection. Other DBAPI2 \u001b[39m\u001b[39m\"\u001b[39m\n\u001b[0;32m   (...)\u001b[0m\n\u001b[1;32m    839\u001b[0m     stacklevel\u001b[39m=\u001b[39mfind_stack_level(),\n\u001b[1;32m    840\u001b[0m )\n\u001b[1;32m    841\u001b[0m \u001b[39mreturn\u001b[39;00m SQLiteDatabase(con)\n",
      "File \u001b[0;32m/opt/homebrew/anaconda3/lib/python3.11/site-packages/pandas/io/sql.py:1536\u001b[0m, in \u001b[0;36mSQLDatabase.__init__\u001b[0;34m(self, con, schema, need_transaction)\u001b[0m\n\u001b[1;32m   1534\u001b[0m \u001b[39mself\u001b[39m\u001b[39m.\u001b[39mexit_stack \u001b[39m=\u001b[39m ExitStack()\n\u001b[1;32m   1535\u001b[0m \u001b[39mif\u001b[39;00m \u001b[39misinstance\u001b[39m(con, \u001b[39mstr\u001b[39m):\n\u001b[0;32m-> 1536\u001b[0m     con \u001b[39m=\u001b[39m create_engine(con)\n\u001b[1;32m   1537\u001b[0m     \u001b[39mself\u001b[39m\u001b[39m.\u001b[39mexit_stack\u001b[39m.\u001b[39mcallback(con\u001b[39m.\u001b[39mdispose)\n\u001b[1;32m   1538\u001b[0m \u001b[39mif\u001b[39;00m \u001b[39misinstance\u001b[39m(con, Engine):\n",
      "File \u001b[0;32m<string>:2\u001b[0m, in \u001b[0;36mcreate_engine\u001b[0;34m(url, **kwargs)\u001b[0m\n",
      "File \u001b[0;32m/opt/homebrew/anaconda3/lib/python3.11/site-packages/sqlalchemy/util/deprecations.py:281\u001b[0m, in \u001b[0;36mdeprecated_params.<locals>.decorate.<locals>.warned\u001b[0;34m(fn, *args, **kwargs)\u001b[0m\n\u001b[1;32m    274\u001b[0m     \u001b[39mif\u001b[39;00m m \u001b[39min\u001b[39;00m kwargs:\n\u001b[1;32m    275\u001b[0m         _warn_with_version(\n\u001b[1;32m    276\u001b[0m             messages[m],\n\u001b[1;32m    277\u001b[0m             versions[m],\n\u001b[1;32m    278\u001b[0m             version_warnings[m],\n\u001b[1;32m    279\u001b[0m             stacklevel\u001b[39m=\u001b[39m\u001b[39m3\u001b[39m,\n\u001b[1;32m    280\u001b[0m         )\n\u001b[0;32m--> 281\u001b[0m \u001b[39mreturn\u001b[39;00m fn(\u001b[39m*\u001b[39margs, \u001b[39m*\u001b[39m\u001b[39m*\u001b[39mkwargs)\n",
      "File \u001b[0;32m/opt/homebrew/anaconda3/lib/python3.11/site-packages/sqlalchemy/engine/create.py:552\u001b[0m, in \u001b[0;36mcreate_engine\u001b[0;34m(url, **kwargs)\u001b[0m\n\u001b[1;32m    548\u001b[0m u \u001b[39m=\u001b[39m _url\u001b[39m.\u001b[39mmake_url(url)\n\u001b[1;32m    550\u001b[0m u, plugins, kwargs \u001b[39m=\u001b[39m u\u001b[39m.\u001b[39m_instantiate_plugins(kwargs)\n\u001b[0;32m--> 552\u001b[0m entrypoint \u001b[39m=\u001b[39m u\u001b[39m.\u001b[39m_get_entrypoint()\n\u001b[1;32m    553\u001b[0m _is_async \u001b[39m=\u001b[39m kwargs\u001b[39m.\u001b[39mpop(\u001b[39m\"\u001b[39m\u001b[39m_is_async\u001b[39m\u001b[39m\"\u001b[39m, \u001b[39mFalse\u001b[39;00m)\n\u001b[1;32m    554\u001b[0m \u001b[39mif\u001b[39;00m _is_async:\n",
      "File \u001b[0;32m/opt/homebrew/anaconda3/lib/python3.11/site-packages/sqlalchemy/engine/url.py:754\u001b[0m, in \u001b[0;36mURL._get_entrypoint\u001b[0;34m(self)\u001b[0m\n\u001b[1;32m    752\u001b[0m \u001b[39melse\u001b[39;00m:\n\u001b[1;32m    753\u001b[0m     name \u001b[39m=\u001b[39m \u001b[39mself\u001b[39m\u001b[39m.\u001b[39mdrivername\u001b[39m.\u001b[39mreplace(\u001b[39m\"\u001b[39m\u001b[39m+\u001b[39m\u001b[39m\"\u001b[39m, \u001b[39m\"\u001b[39m\u001b[39m.\u001b[39m\u001b[39m\"\u001b[39m)\n\u001b[0;32m--> 754\u001b[0m \u001b[39mcls\u001b[39m \u001b[39m=\u001b[39m registry\u001b[39m.\u001b[39mload(name)\n\u001b[1;32m    755\u001b[0m \u001b[39m# check for legacy dialects that\u001b[39;00m\n\u001b[1;32m    756\u001b[0m \u001b[39m# would return a module with 'dialect' as the\u001b[39;00m\n\u001b[1;32m    757\u001b[0m \u001b[39m# actual class\u001b[39;00m\n\u001b[1;32m    758\u001b[0m \u001b[39mif\u001b[39;00m (\n\u001b[1;32m    759\u001b[0m     \u001b[39mhasattr\u001b[39m(\u001b[39mcls\u001b[39m, \u001b[39m\"\u001b[39m\u001b[39mdialect\u001b[39m\u001b[39m\"\u001b[39m)\n\u001b[1;32m    760\u001b[0m     \u001b[39mand\u001b[39;00m \u001b[39misinstance\u001b[39m(\u001b[39mcls\u001b[39m\u001b[39m.\u001b[39mdialect, \u001b[39mtype\u001b[39m)\n\u001b[1;32m    761\u001b[0m     \u001b[39mand\u001b[39;00m \u001b[39missubclass\u001b[39m(\u001b[39mcls\u001b[39m\u001b[39m.\u001b[39mdialect, Dialect)\n\u001b[1;32m    762\u001b[0m ):\n",
      "File \u001b[0;32m/opt/homebrew/anaconda3/lib/python3.11/site-packages/sqlalchemy/util/langhelpers.py:368\u001b[0m, in \u001b[0;36mPluginLoader.load\u001b[0;34m(self, name)\u001b[0m\n\u001b[1;32m    365\u001b[0m         \u001b[39mself\u001b[39m\u001b[39m.\u001b[39mimpls[name] \u001b[39m=\u001b[39m impl\u001b[39m.\u001b[39mload\n\u001b[1;32m    366\u001b[0m         \u001b[39mreturn\u001b[39;00m impl\u001b[39m.\u001b[39mload()\n\u001b[0;32m--> 368\u001b[0m \u001b[39mraise\u001b[39;00m exc\u001b[39m.\u001b[39mNoSuchModuleError(\n\u001b[1;32m    369\u001b[0m     \u001b[39m\"\u001b[39m\u001b[39mCan\u001b[39m\u001b[39m'\u001b[39m\u001b[39mt load plugin: \u001b[39m\u001b[39m%s\u001b[39;00m\u001b[39m:\u001b[39m\u001b[39m%s\u001b[39;00m\u001b[39m\"\u001b[39m \u001b[39m%\u001b[39m (\u001b[39mself\u001b[39m\u001b[39m.\u001b[39mgroup, name)\n\u001b[1;32m    370\u001b[0m )\n",
      "\u001b[0;31mNoSuchModuleError\u001b[0m: Can't load plugin: sqlalchemy.dialects:sql.pymysql"
     ]
    }
   ],
   "source": [
    "df = get_zillow_data()"
   ]
  },
  {
   "cell_type": "code",
   "execution_count": null,
   "metadata": {},
   "outputs": [],
   "source": []
  }
 ],
 "metadata": {
  "kernelspec": {
   "display_name": "base",
   "language": "python",
   "name": "python3"
  },
  "language_info": {
   "codemirror_mode": {
    "name": "ipython",
    "version": 3
   },
   "file_extension": ".py",
   "mimetype": "text/x-python",
   "name": "python",
   "nbconvert_exporter": "python",
   "pygments_lexer": "ipython3",
   "version": "3.11.3"
  },
  "orig_nbformat": 4
 },
 "nbformat": 4,
 "nbformat_minor": 2
}
